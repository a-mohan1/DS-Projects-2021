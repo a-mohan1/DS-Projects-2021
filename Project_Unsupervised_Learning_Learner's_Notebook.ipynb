{
 "cells": [
  {
   "cell_type": "markdown",
   "metadata": {
    "id": "JxEtxNhXKpQv"
   },
   "source": [
    "----------------------------------------\n",
    "\n",
    "# Project: Unsupervised Learning\n",
    "- **Marks: 35**\n",
    "\n",
    "-----------------------------------------"
   ]
  },
  {
   "cell_type": "markdown",
   "metadata": {
    "id": "tIOusyeT4_RJ"
   },
   "source": [
    "Dear Learner, \n",
    "\n",
    "Welcome to the USL project.\n",
    "\n",
    "For this exercise, we will be using the Credit Card Customer Data which has been provided separately.\n",
    "\n",
    "---------------------------\n",
    "## Background: \n",
    "-----------------------------\n",
    "AllLife Bank wants to focus on its credit card customer base in the next\n",
    "financial year. They have been advised by their marketing research team, that the\n",
    "penetration in the market can be improved. Based on this input, the Marketing team\n",
    "proposes to run personalised campaigns to target new customers as well as upsell to\n",
    "existing customers. Another insight from the market research was that the customers\n",
    "perceive the support services of the back poorly. Based on this, the Operations team\n",
    "wants to upgrade the service delivery model, to ensure that customers queries are\n",
    "resolved faster. Head of Marketing and Head of Delivery both decide to reach out to the\n",
    "Data Science team for help.\n",
    "Objective: To identify different segments in the existing customer based on their\n",
    "spending patterns as well as past interaction with the bank.\n",
    "\n",
    "--------------------------\n",
    "## About the data:\n",
    "-----------------\n",
    "The data has customers as a data points with the following features-\n",
    "- Sl_no - Customer Serial Number\n",
    "- Customer Key - Customer identification\n",
    "- Avg_Credit_Limit\t- Average credit limit(currency less)\n",
    "- Total_Credit_Cards\t- Total number of credit cards \n",
    "- Total_visits_bank\t- Total bank visits\n",
    "- Total_visits_online -\t Total online visits\n",
    "- Total_calls_made - Total calls made\n",
    "\n",
    "\n",
    "---------------------------\n",
    "## Guidelines\n",
    "-----------------------------------------\n",
    "- The exercise consists of semi written code blocks. You need to fill the blocks as per the instructions to achieve the required results.\n",
    "- To be able to complete the assessment in the expected time, do not change the variable names. The codes might throw errors when the names are changed. \n",
    "- The marks of each requirement is mentioned in the question.\n",
    "- You can raise your issues on the discussion forum on the Olympus.\n",
    "- You can use Jupyter Notebook/ Google Colab(recommended) for this assessment.\n",
    "- Uncomment the code snippets and work on them\n",
    "\n",
    "--------------------------------------------\n",
    "## Resources\n",
    "-------------------------------------\n",
    "\n",
    "- Kmeans documentation - https://scikit-learn.org/stable/modules/generated/sklearn.cluster.KMeans.html\n",
    "- GMM documentation - https://scikit-learn.org/stable/modules/generated/sklearn.mixture.GaussianMixture.html\n",
    "- DBSCAN - https://scikit-learn.org/stable/modules/generated/sklearn.cluster.DBSCAN.html\n",
    "\n",
    "\n",
    "Wishing you all the best!"
   ]
  },
  {
   "cell_type": "code",
   "execution_count": 1,
   "metadata": {
    "id": "KJKn2dkPKnkU"
   },
   "outputs": [],
   "source": [
    "#Import all the necessary packages\n",
    "\n",
    "import pandas as pd\n",
    "import numpy as np\n",
    "\n",
    "import matplotlib.pylab as plt\n",
    "%matplotlib inline\n",
    "\n",
    "import seaborn as sns\n",
    "from sklearn.cluster import KMeans\n",
    "\n",
    "import sklearn\n",
    "#import sklearn.metrics"
   ]
  },
  {
   "cell_type": "code",
   "execution_count": 2,
   "metadata": {
    "id": "xUObRKKPYo2b"
   },
   "outputs": [],
   "source": [
    "# Just some fancy stuff to make make notebooks more presentable\n",
    "\n",
    "import warnings\n",
    "warnings.filterwarnings('ignore') # to get rid of warning messages\n",
    "\n",
    "# Remove scientific notations and display numbers with 2 decimal points instead\n",
    "pd.options.display.float_format = '{:,.2f}'.format        \n",
    "\n",
    "# Update default background style of plots\n",
    "sns.set_style(style='darkgrid')"
   ]
  },
  {
   "cell_type": "markdown",
   "metadata": {
    "id": "MeIShU1-hh0U"
   },
   "source": [
    "### 1. Read the data file (1 mark)\n"
   ]
  },
  {
   "cell_type": "code",
   "execution_count": 3,
   "metadata": {
    "id": "u6UKbCjXhfDJ"
   },
   "outputs": [],
   "source": [
    "# Read data file\n",
    "df = pd.read_excel(\"Credit Card Customer Data.xlsx\")\n",
    "\n",
    "# Note -- if you are using google colab you can use the mount drive feature(or any other alternative) but make sure that the dataframe in which the data file is read is named 'df'."
   ]
  },
  {
   "cell_type": "code",
   "execution_count": 4,
   "metadata": {
    "colab": {
     "base_uri": "https://localhost:8080/"
    },
    "id": "P1kDTEVUK7WI",
    "outputId": "7604e29c-b4a2-45bf-a87b-8bf348d6a83d"
   },
   "outputs": [
    {
     "data": {
      "text/plain": [
       "(660, 7)"
      ]
     },
     "execution_count": 4,
     "metadata": {},
     "output_type": "execute_result"
    }
   ],
   "source": [
    "df.shape"
   ]
  },
  {
   "cell_type": "code",
   "execution_count": 5,
   "metadata": {
    "colab": {
     "base_uri": "https://localhost:8080/"
    },
    "id": "lMcUBOrbLCZM",
    "outputId": "75d45c7f-5e49-4636-e86c-3bc6f8b4c86d"
   },
   "outputs": [
    {
     "name": "stdout",
     "output_type": "stream",
     "text": [
      "<class 'pandas.core.frame.DataFrame'>\n",
      "RangeIndex: 660 entries, 0 to 659\n",
      "Data columns (total 7 columns):\n",
      " #   Column               Non-Null Count  Dtype\n",
      "---  ------               --------------  -----\n",
      " 0   Sl_No                660 non-null    int64\n",
      " 1   Customer Key         660 non-null    int64\n",
      " 2   Avg_Credit_Limit     660 non-null    int64\n",
      " 3   Total_Credit_Cards   660 non-null    int64\n",
      " 4   Total_visits_bank    660 non-null    int64\n",
      " 5   Total_visits_online  660 non-null    int64\n",
      " 6   Total_calls_made     660 non-null    int64\n",
      "dtypes: int64(7)\n",
      "memory usage: 36.2 KB\n"
     ]
    }
   ],
   "source": [
    "df.info()"
   ]
  },
  {
   "cell_type": "code",
   "execution_count": 6,
   "metadata": {
    "colab": {
     "base_uri": "https://localhost:8080/"
    },
    "id": "PiOr4bspLM_v",
    "outputId": "60886f6f-4629-4679-c0a3-94c6c9b8bea1"
   },
   "outputs": [
    {
     "data": {
      "text/plain": [
       "0"
      ]
     },
     "execution_count": 6,
     "metadata": {},
     "output_type": "execute_result"
    }
   ],
   "source": [
    "# check for the duplicate \n",
    "df.duplicated().sum()"
   ]
  },
  {
   "cell_type": "code",
   "execution_count": 7,
   "metadata": {
    "colab": {
     "base_uri": "https://localhost:8080/"
    },
    "id": "rjw576kPNzlS",
    "outputId": "1466e4ec-143b-4279-feb4-94a4f43bc25c"
   },
   "outputs": [
    {
     "data": {
      "text/plain": [
       "Sl_No                  0\n",
       "Customer Key           0\n",
       "Avg_Credit_Limit       0\n",
       "Total_Credit_Cards     0\n",
       "Total_visits_bank      0\n",
       "Total_visits_online    0\n",
       "Total_calls_made       0\n",
       "dtype: int64"
      ]
     },
     "execution_count": 7,
     "metadata": {},
     "output_type": "execute_result"
    }
   ],
   "source": [
    "# no duplicates, lets check for missing values\n",
    "df.isnull().sum()"
   ]
  },
  {
   "cell_type": "markdown",
   "metadata": {
    "id": "KWyGo_wWjkvX"
   },
   "source": [
    "### 2. Find the number of unique entries in each of the columns. What can be inferred from the observation about the the Customer key feature? (2 marks)\n",
    "\n",
    "- Unique entries (1 mark)\n",
    "- Inferences (1 mark)"
   ]
  },
  {
   "cell_type": "code",
   "execution_count": 8,
   "metadata": {
    "id": "Gn7zX2ZIN0iB"
   },
   "outputs": [
    {
     "data": {
      "text/plain": [
       "Sl_No                  660\n",
       "Customer Key           655\n",
       "Avg_Credit_Limit       110\n",
       "Total_Credit_Cards      10\n",
       "Total_visits_bank        6\n",
       "Total_visits_online     16\n",
       "Total_calls_made        11\n",
       "dtype: int64"
      ]
     },
     "execution_count": 8,
     "metadata": {},
     "output_type": "execute_result"
    }
   ],
   "source": [
    "# No missing values. Let us now figure out the uniques in each column. \n",
    "\n",
    "df.nunique()"
   ]
  },
  {
   "cell_type": "markdown",
   "metadata": {
    "id": "ogwZ1VtJkciz"
   },
   "source": [
    "**Add inference from the above observation about the Customer Key feature:**\n",
    "\n",
    "**Only 655 out of 660 values of Customer Key are unique. This means there are 5 duplicate Customer Keys**"
   ]
  },
  {
   "cell_type": "code",
   "execution_count": 9,
   "metadata": {
    "colab": {
     "base_uri": "https://localhost:8080/",
     "height": 197
    },
    "id": "qLuEIKrxOr3e",
    "outputId": "bd90c2f4-1b25-4deb-8406-47a5ec9b0edc"
   },
   "outputs": [
    {
     "data": {
      "text/html": [
       "<div>\n",
       "<style scoped>\n",
       "    .dataframe tbody tr th:only-of-type {\n",
       "        vertical-align: middle;\n",
       "    }\n",
       "\n",
       "    .dataframe tbody tr th {\n",
       "        vertical-align: top;\n",
       "    }\n",
       "\n",
       "    .dataframe thead th {\n",
       "        text-align: right;\n",
       "    }\n",
       "</style>\n",
       "<table border=\"1\" class=\"dataframe\">\n",
       "  <thead>\n",
       "    <tr style=\"text-align: right;\">\n",
       "      <th></th>\n",
       "      <th>Sl_No</th>\n",
       "      <th>Customer Key</th>\n",
       "      <th>Avg_Credit_Limit</th>\n",
       "      <th>Total_Credit_Cards</th>\n",
       "      <th>Total_visits_bank</th>\n",
       "      <th>Total_visits_online</th>\n",
       "      <th>Total_calls_made</th>\n",
       "    </tr>\n",
       "  </thead>\n",
       "  <tbody>\n",
       "    <tr>\n",
       "      <th>332</th>\n",
       "      <td>333</td>\n",
       "      <td>47437</td>\n",
       "      <td>17000</td>\n",
       "      <td>7</td>\n",
       "      <td>3</td>\n",
       "      <td>1</td>\n",
       "      <td>0</td>\n",
       "    </tr>\n",
       "    <tr>\n",
       "      <th>398</th>\n",
       "      <td>399</td>\n",
       "      <td>96929</td>\n",
       "      <td>67000</td>\n",
       "      <td>6</td>\n",
       "      <td>2</td>\n",
       "      <td>2</td>\n",
       "      <td>2</td>\n",
       "    </tr>\n",
       "    <tr>\n",
       "      <th>432</th>\n",
       "      <td>433</td>\n",
       "      <td>37252</td>\n",
       "      <td>59000</td>\n",
       "      <td>6</td>\n",
       "      <td>2</td>\n",
       "      <td>1</td>\n",
       "      <td>2</td>\n",
       "    </tr>\n",
       "    <tr>\n",
       "      <th>541</th>\n",
       "      <td>542</td>\n",
       "      <td>50706</td>\n",
       "      <td>60000</td>\n",
       "      <td>7</td>\n",
       "      <td>5</td>\n",
       "      <td>2</td>\n",
       "      <td>2</td>\n",
       "    </tr>\n",
       "    <tr>\n",
       "      <th>632</th>\n",
       "      <td>633</td>\n",
       "      <td>97935</td>\n",
       "      <td>187000</td>\n",
       "      <td>7</td>\n",
       "      <td>1</td>\n",
       "      <td>7</td>\n",
       "      <td>0</td>\n",
       "    </tr>\n",
       "  </tbody>\n",
       "</table>\n",
       "</div>"
      ],
      "text/plain": [
       "     Sl_No  Customer Key  Avg_Credit_Limit  Total_Credit_Cards  \\\n",
       "332    333         47437             17000                   7   \n",
       "398    399         96929             67000                   6   \n",
       "432    433         37252             59000                   6   \n",
       "541    542         50706             60000                   7   \n",
       "632    633         97935            187000                   7   \n",
       "\n",
       "     Total_visits_bank  Total_visits_online  Total_calls_made  \n",
       "332                  3                    1                 0  \n",
       "398                  2                    2                 2  \n",
       "432                  2                    1                 2  \n",
       "541                  5                    2                 2  \n",
       "632                  1                    7                 0  "
      ]
     },
     "execution_count": 9,
     "metadata": {},
     "output_type": "execute_result"
    }
   ],
   "source": [
    "# There are some duplicates in customer key. Let us explore\n",
    "duplicate_keys = df['Customer Key'].duplicated()\n",
    "df[duplicate_keys]"
   ]
  },
  {
   "cell_type": "code",
   "execution_count": 10,
   "metadata": {
    "colab": {
     "base_uri": "https://localhost:8080/"
    },
    "id": "vEjJ7d_FPiIr",
    "outputId": "2fa8cbc6-8adf-4c60-cb1c-aba4a7d33209"
   },
   "outputs": [
    {
     "name": "stdout",
     "output_type": "stream",
     "text": [
      "<class 'pandas.core.frame.DataFrame'>\n",
      "Int64Index: 655 entries, 0 to 659\n",
      "Data columns (total 7 columns):\n",
      " #   Column               Non-Null Count  Dtype\n",
      "---  ------               --------------  -----\n",
      " 0   Sl_No                655 non-null    int64\n",
      " 1   Customer Key         655 non-null    int64\n",
      " 2   Avg_Credit_Limit     655 non-null    int64\n",
      " 3   Total_Credit_Cards   655 non-null    int64\n",
      " 4   Total_visits_bank    655 non-null    int64\n",
      " 5   Total_visits_online  655 non-null    int64\n",
      " 6   Total_calls_made     655 non-null    int64\n",
      "dtypes: int64(7)\n",
      "memory usage: 40.9 KB\n"
     ]
    }
   ],
   "source": [
    "# let us just drop them for simplicity.\n",
    "\n",
    "df = df[~duplicate_keys]\n",
    "df.info()"
   ]
  },
  {
   "cell_type": "markdown",
   "metadata": {
    "id": "jj7U8RQTlw49"
   },
   "source": [
    "### 3. Drop the columns Sl_No and Customer Key(1 mark)"
   ]
  },
  {
   "cell_type": "code",
   "execution_count": 11,
   "metadata": {
    "id": "EOoF3Jv1Pjkq"
   },
   "outputs": [],
   "source": [
    "# Great, we have done some basic checks. Now let us drop the variables that are not required\n",
    "\n",
    "df.drop(columns= ['Sl_No', 'Customer Key'], inplace = True)"
   ]
  },
  {
   "cell_type": "code",
   "execution_count": 12,
   "metadata": {
    "colab": {
     "base_uri": "https://localhost:8080/",
     "height": 137
    },
    "id": "4cL9VEPCSVqX",
    "outputId": "e1312b2a-ae29-4616-f873-8924b7d133ec"
   },
   "outputs": [
    {
     "data": {
      "text/html": [
       "<div>\n",
       "<style scoped>\n",
       "    .dataframe tbody tr th:only-of-type {\n",
       "        vertical-align: middle;\n",
       "    }\n",
       "\n",
       "    .dataframe tbody tr th {\n",
       "        vertical-align: top;\n",
       "    }\n",
       "\n",
       "    .dataframe thead th {\n",
       "        text-align: right;\n",
       "    }\n",
       "</style>\n",
       "<table border=\"1\" class=\"dataframe\">\n",
       "  <thead>\n",
       "    <tr style=\"text-align: right;\">\n",
       "      <th></th>\n",
       "      <th>Avg_Credit_Limit</th>\n",
       "      <th>Total_Credit_Cards</th>\n",
       "      <th>Total_visits_bank</th>\n",
       "      <th>Total_visits_online</th>\n",
       "      <th>Total_calls_made</th>\n",
       "    </tr>\n",
       "  </thead>\n",
       "  <tbody>\n",
       "    <tr>\n",
       "      <th>0</th>\n",
       "      <td>100000</td>\n",
       "      <td>2</td>\n",
       "      <td>1</td>\n",
       "      <td>1</td>\n",
       "      <td>0</td>\n",
       "    </tr>\n",
       "    <tr>\n",
       "      <th>1</th>\n",
       "      <td>50000</td>\n",
       "      <td>3</td>\n",
       "      <td>0</td>\n",
       "      <td>10</td>\n",
       "      <td>9</td>\n",
       "    </tr>\n",
       "    <tr>\n",
       "      <th>2</th>\n",
       "      <td>50000</td>\n",
       "      <td>7</td>\n",
       "      <td>1</td>\n",
       "      <td>3</td>\n",
       "      <td>4</td>\n",
       "    </tr>\n",
       "  </tbody>\n",
       "</table>\n",
       "</div>"
      ],
      "text/plain": [
       "   Avg_Credit_Limit  Total_Credit_Cards  Total_visits_bank  \\\n",
       "0            100000                   2                  1   \n",
       "1             50000                   3                  0   \n",
       "2             50000                   7                  1   \n",
       "\n",
       "   Total_visits_online  Total_calls_made  \n",
       "0                    1                 0  \n",
       "1                   10                 9  \n",
       "2                    3                 4  "
      ]
     },
     "execution_count": 12,
     "metadata": {},
     "output_type": "execute_result"
    }
   ],
   "source": [
    "df.head(3)"
   ]
  },
  {
   "cell_type": "code",
   "execution_count": 13,
   "metadata": {
    "colab": {
     "base_uri": "https://localhost:8080/",
     "height": 377
    },
    "id": "Xk0Ce0ZmSWc9",
    "outputId": "d75502d8-c22a-4527-ba41-153e0ca87621"
   },
   "outputs": [
    {
     "data": {
      "text/html": [
       "<div>\n",
       "<style scoped>\n",
       "    .dataframe tbody tr th:only-of-type {\n",
       "        vertical-align: middle;\n",
       "    }\n",
       "\n",
       "    .dataframe tbody tr th {\n",
       "        vertical-align: top;\n",
       "    }\n",
       "\n",
       "    .dataframe thead th {\n",
       "        text-align: right;\n",
       "    }\n",
       "</style>\n",
       "<table border=\"1\" class=\"dataframe\">\n",
       "  <thead>\n",
       "    <tr style=\"text-align: right;\">\n",
       "      <th></th>\n",
       "      <th>Avg_Credit_Limit</th>\n",
       "      <th>Total_Credit_Cards</th>\n",
       "      <th>Total_visits_bank</th>\n",
       "      <th>Total_visits_online</th>\n",
       "      <th>Total_calls_made</th>\n",
       "    </tr>\n",
       "  </thead>\n",
       "  <tbody>\n",
       "    <tr>\n",
       "      <th>162</th>\n",
       "      <td>8000</td>\n",
       "      <td>2</td>\n",
       "      <td>0</td>\n",
       "      <td>3</td>\n",
       "      <td>4</td>\n",
       "    </tr>\n",
       "    <tr>\n",
       "      <th>175</th>\n",
       "      <td>6000</td>\n",
       "      <td>1</td>\n",
       "      <td>0</td>\n",
       "      <td>2</td>\n",
       "      <td>5</td>\n",
       "    </tr>\n",
       "    <tr>\n",
       "      <th>215</th>\n",
       "      <td>8000</td>\n",
       "      <td>4</td>\n",
       "      <td>0</td>\n",
       "      <td>4</td>\n",
       "      <td>7</td>\n",
       "    </tr>\n",
       "    <tr>\n",
       "      <th>295</th>\n",
       "      <td>10000</td>\n",
       "      <td>6</td>\n",
       "      <td>4</td>\n",
       "      <td>2</td>\n",
       "      <td>3</td>\n",
       "    </tr>\n",
       "    <tr>\n",
       "      <th>324</th>\n",
       "      <td>9000</td>\n",
       "      <td>4</td>\n",
       "      <td>5</td>\n",
       "      <td>0</td>\n",
       "      <td>4</td>\n",
       "    </tr>\n",
       "    <tr>\n",
       "      <th>361</th>\n",
       "      <td>18000</td>\n",
       "      <td>6</td>\n",
       "      <td>3</td>\n",
       "      <td>1</td>\n",
       "      <td>4</td>\n",
       "    </tr>\n",
       "    <tr>\n",
       "      <th>378</th>\n",
       "      <td>12000</td>\n",
       "      <td>6</td>\n",
       "      <td>5</td>\n",
       "      <td>2</td>\n",
       "      <td>1</td>\n",
       "    </tr>\n",
       "    <tr>\n",
       "      <th>385</th>\n",
       "      <td>8000</td>\n",
       "      <td>7</td>\n",
       "      <td>4</td>\n",
       "      <td>2</td>\n",
       "      <td>0</td>\n",
       "    </tr>\n",
       "    <tr>\n",
       "      <th>395</th>\n",
       "      <td>5000</td>\n",
       "      <td>4</td>\n",
       "      <td>5</td>\n",
       "      <td>0</td>\n",
       "      <td>1</td>\n",
       "    </tr>\n",
       "    <tr>\n",
       "      <th>455</th>\n",
       "      <td>47000</td>\n",
       "      <td>6</td>\n",
       "      <td>2</td>\n",
       "      <td>0</td>\n",
       "      <td>4</td>\n",
       "    </tr>\n",
       "    <tr>\n",
       "      <th>497</th>\n",
       "      <td>52000</td>\n",
       "      <td>4</td>\n",
       "      <td>2</td>\n",
       "      <td>1</td>\n",
       "      <td>2</td>\n",
       "    </tr>\n",
       "  </tbody>\n",
       "</table>\n",
       "</div>"
      ],
      "text/plain": [
       "     Avg_Credit_Limit  Total_Credit_Cards  Total_visits_bank  \\\n",
       "162              8000                   2                  0   \n",
       "175              6000                   1                  0   \n",
       "215              8000                   4                  0   \n",
       "295             10000                   6                  4   \n",
       "324              9000                   4                  5   \n",
       "361             18000                   6                  3   \n",
       "378             12000                   6                  5   \n",
       "385              8000                   7                  4   \n",
       "395              5000                   4                  5   \n",
       "455             47000                   6                  2   \n",
       "497             52000                   4                  2   \n",
       "\n",
       "     Total_visits_online  Total_calls_made  \n",
       "162                    3                 4  \n",
       "175                    2                 5  \n",
       "215                    4                 7  \n",
       "295                    2                 3  \n",
       "324                    0                 4  \n",
       "361                    1                 4  \n",
       "378                    2                 1  \n",
       "385                    2                 0  \n",
       "395                    0                 1  \n",
       "455                    0                 4  \n",
       "497                    1                 2  "
      ]
     },
     "execution_count": 13,
     "metadata": {},
     "output_type": "execute_result"
    }
   ],
   "source": [
    "#let us check for duplicates now. Duplicates would mean customers with identical features\n",
    "\n",
    "df[df.duplicated()]\n"
   ]
  },
  {
   "cell_type": "code",
   "execution_count": 14,
   "metadata": {
    "colab": {
     "base_uri": "https://localhost:8080/"
    },
    "id": "ogu8TnJjUrgL",
    "outputId": "1c46d588-00bb-4fc5-a307-4d6703084d22"
   },
   "outputs": [
    {
     "name": "stdout",
     "output_type": "stream",
     "text": [
      "<class 'pandas.core.frame.DataFrame'>\n",
      "Int64Index: 644 entries, 0 to 659\n",
      "Data columns (total 5 columns):\n",
      " #   Column               Non-Null Count  Dtype\n",
      "---  ------               --------------  -----\n",
      " 0   Avg_Credit_Limit     644 non-null    int64\n",
      " 1   Total_Credit_Cards   644 non-null    int64\n",
      " 2   Total_visits_bank    644 non-null    int64\n",
      " 3   Total_visits_online  644 non-null    int64\n",
      " 4   Total_calls_made     644 non-null    int64\n",
      "dtypes: int64(5)\n",
      "memory usage: 30.2 KB\n"
     ]
    }
   ],
   "source": [
    "#let us drop these too\n",
    "df=df[~df.duplicated()]\n",
    "df.info()"
   ]
  },
  {
   "cell_type": "markdown",
   "metadata": {
    "id": "GWbxYcHCmjh6"
   },
   "source": [
    "### 4. Visualise through box plot  (5 marks)\n",
    "\n",
    "- Extract the features(column names) of the df in a list(1 mark)\n",
    "- Complete the function below that takes the above list of column names and the df and plots the boxplot for all the features(3 marks)\n",
    "- Call the function with the features and the df(1 mark)"
   ]
  },
  {
   "cell_type": "code",
   "execution_count": 15,
   "metadata": {
    "colab": {
     "base_uri": "https://localhost:8080/",
     "height": 1000
    },
    "id": "SN02moxuWGf2",
    "outputId": "096f7b9b-1aac-42ed-9070-e455a0a49306"
   },
   "outputs": [
    {
     "data": {
      "image/png": "[encoded data removed]",
      "text/plain": [
       "<Figure size 432x288 with 1 Axes>"
      ]
     },
     "metadata": {},
     "output_type": "display_data"
    },
    {
     "data": {
      "image/png": "[encoded data removed]",
      "text/plain": [
       "<Figure size 432x288 with 1 Axes>"
      ]
     },
     "metadata": {},
     "output_type": "display_data"
    },
    {
     "data": {
      "image/png": "[encoded data removed]",
      "text/plain": [
       "<Figure size 432x288 with 1 Axes>"
      ]
     },
     "metadata": {},
     "output_type": "display_data"
    },
    {
     "data": {
      "image/png": "[encoded data removed]",
      "text/plain": [
       "<Figure size 432x288 with 1 Axes>"
      ]
     },
     "metadata": {},
     "output_type": "display_data"
    },
    {
     "data": {
      "image/png": "[encoded data removed]",
      "text/plain": [
       "<Figure size 432x288 with 1 Axes>"
      ]
     },
     "metadata": {},
     "output_type": "display_data"
    }
   ],
   "source": [
    "# Now lets go ahead with the exploring each variable at hand. We will use the boxplot for these\n",
    "\n",
    "features = list(df.columns)\n",
    "\n",
    "# write the function below. Iterate through the features plot the boxplot for all the features one by one.\n",
    "\n",
    "def boxplots_plot(features, df):\n",
    "    for i in features:\n",
    "        sns.boxplot(x=i, data=df)\n",
    "        plt.show()\n",
    "\n",
    "boxplots_plot(features, df)\n"
   ]
  },
  {
   "cell_type": "markdown",
   "metadata": {
    "id": "IkLtnnkcp0cl"
   },
   "source": [
    "### 5. Draw the correlation heatmap with annotation(4 marks)"
   ]
  },
  {
   "cell_type": "code",
   "execution_count": 16,
   "metadata": {
    "colab": {
     "base_uri": "https://localhost:8080/",
     "height": 368
    },
    "id": "ENObY0wEWhAD",
    "outputId": "19875a20-2190-401d-eb74-58ad35abb75a"
   },
   "outputs": [
    {
     "data": {
      "text/plain": [
       "<AxesSubplot:>"
      ]
     },
     "execution_count": 16,
     "metadata": {},
     "output_type": "execute_result"
    },
    {
     "data": {
      "image/png": "[encoded data removed]",
      "text/plain": [
       "<Figure size 432x288 with 2 Axes>"
      ]
     },
     "metadata": {},
     "output_type": "display_data"
    }
   ],
   "source": [
    "# We see that there are some outliers in the Average credit limit and total visits online features\n",
    "# Now let us generate a correlation heatmap\n",
    "\n",
    "sns.heatmap( df.corr(), annot = True)"
   ]
  },
  {
   "cell_type": "markdown",
   "metadata": {
    "id": "skjNQIiMq2Ar"
   },
   "source": [
    "### 6. Scale the dataset, create a dataframe for the scaled value and display the top 3 entries (5 marks)\n"
   ]
  },
  {
   "cell_type": "code",
   "execution_count": 17,
   "metadata": {
    "colab": {
     "base_uri": "https://localhost:8080/",
     "height": 137
    },
    "id": "gtAGq41QYFvO",
    "outputId": "0b0c1602-8b73-4ac0-dd3c-ba97730f0308"
   },
   "outputs": [
    {
     "data": {
      "text/html": [
       "<div>\n",
       "<style scoped>\n",
       "    .dataframe tbody tr th:only-of-type {\n",
       "        vertical-align: middle;\n",
       "    }\n",
       "\n",
       "    .dataframe tbody tr th {\n",
       "        vertical-align: top;\n",
       "    }\n",
       "\n",
       "    .dataframe thead th {\n",
       "        text-align: right;\n",
       "    }\n",
       "</style>\n",
       "<table border=\"1\" class=\"dataframe\">\n",
       "  <thead>\n",
       "    <tr style=\"text-align: right;\">\n",
       "      <th></th>\n",
       "      <th>Avg_Credit_Limit</th>\n",
       "      <th>Total_Credit_Cards</th>\n",
       "      <th>Total_visits_bank</th>\n",
       "      <th>Total_visits_online</th>\n",
       "      <th>Total_calls_made</th>\n",
       "    </tr>\n",
       "  </thead>\n",
       "  <tbody>\n",
       "    <tr>\n",
       "      <th>0</th>\n",
       "      <td>0.49</td>\n",
       "      <td>0.11</td>\n",
       "      <td>0.20</td>\n",
       "      <td>0.07</td>\n",
       "      <td>0.00</td>\n",
       "    </tr>\n",
       "    <tr>\n",
       "      <th>1</th>\n",
       "      <td>0.24</td>\n",
       "      <td>0.22</td>\n",
       "      <td>0.00</td>\n",
       "      <td>0.67</td>\n",
       "      <td>0.90</td>\n",
       "    </tr>\n",
       "    <tr>\n",
       "      <th>2</th>\n",
       "      <td>0.24</td>\n",
       "      <td>0.67</td>\n",
       "      <td>0.20</td>\n",
       "      <td>0.20</td>\n",
       "      <td>0.40</td>\n",
       "    </tr>\n",
       "  </tbody>\n",
       "</table>\n",
       "</div>"
      ],
      "text/plain": [
       "   Avg_Credit_Limit  Total_Credit_Cards  Total_visits_bank  \\\n",
       "0              0.49                0.11               0.20   \n",
       "1              0.24                0.22               0.00   \n",
       "2              0.24                0.67               0.20   \n",
       "\n",
       "   Total_visits_online  Total_calls_made  \n",
       "0                 0.07              0.00  \n",
       "1                 0.67              0.90  \n",
       "2                 0.20              0.40  "
      ]
     },
     "execution_count": 17,
     "metadata": {},
     "output_type": "execute_result"
    }
   ],
   "source": [
    "# Let us now scale the dataset and present the scaled values in a dataframe and display the top 3\n",
    "\n",
    "# use the fit tranform function on the original dataframe\n",
    "\n",
    "from sklearn.preprocessing import MinMaxScaler\n",
    "mms = MinMaxScaler()\n",
    "df_scaled = mms.fit_transform(df)\n",
    "\n",
    "# creating the dataframe of scaled values\n",
    "df_scaled = pd.DataFrame(df_scaled)\n",
    "\n",
    "# use the stored feature names to define the column names for the new dataframe\n",
    "df_scaled.columns = features\n",
    "\n",
    "# print the top3 entries in the scaled data frame\n",
    "df_scaled.head(3)"
   ]
  },
  {
   "cell_type": "code",
   "execution_count": 18,
   "metadata": {
    "colab": {
     "base_uri": "https://localhost:8080/",
     "height": 197
    },
    "id": "3vEUSvZLW9po",
    "outputId": "6f5b163a-2415-4c0e-d694-4eedc3c3f9b4"
   },
   "outputs": [
    {
     "data": {
      "text/html": [
       "<div>\n",
       "<style scoped>\n",
       "    .dataframe tbody tr th:only-of-type {\n",
       "        vertical-align: middle;\n",
       "    }\n",
       "\n",
       "    .dataframe tbody tr th {\n",
       "        vertical-align: top;\n",
       "    }\n",
       "\n",
       "    .dataframe thead th {\n",
       "        text-align: right;\n",
       "    }\n",
       "</style>\n",
       "<table border=\"1\" class=\"dataframe\">\n",
       "  <thead>\n",
       "    <tr style=\"text-align: right;\">\n",
       "      <th></th>\n",
       "      <th>count</th>\n",
       "      <th>mean</th>\n",
       "      <th>std</th>\n",
       "      <th>min</th>\n",
       "      <th>25%</th>\n",
       "      <th>50%</th>\n",
       "      <th>75%</th>\n",
       "      <th>max</th>\n",
       "    </tr>\n",
       "  </thead>\n",
       "  <tbody>\n",
       "    <tr>\n",
       "      <th>Avg_Credit_Limit</th>\n",
       "      <td>644.00</td>\n",
       "      <td>0.16</td>\n",
       "      <td>0.19</td>\n",
       "      <td>0.00</td>\n",
       "      <td>0.04</td>\n",
       "      <td>0.08</td>\n",
       "      <td>0.23</td>\n",
       "      <td>1.00</td>\n",
       "    </tr>\n",
       "    <tr>\n",
       "      <th>Total_Credit_Cards</th>\n",
       "      <td>644.00</td>\n",
       "      <td>0.41</td>\n",
       "      <td>0.24</td>\n",
       "      <td>0.00</td>\n",
       "      <td>0.22</td>\n",
       "      <td>0.44</td>\n",
       "      <td>0.56</td>\n",
       "      <td>1.00</td>\n",
       "    </tr>\n",
       "    <tr>\n",
       "      <th>Total_visits_bank</th>\n",
       "      <td>644.00</td>\n",
       "      <td>0.48</td>\n",
       "      <td>0.33</td>\n",
       "      <td>0.00</td>\n",
       "      <td>0.20</td>\n",
       "      <td>0.40</td>\n",
       "      <td>0.80</td>\n",
       "      <td>1.00</td>\n",
       "    </tr>\n",
       "    <tr>\n",
       "      <th>Total_visits_online</th>\n",
       "      <td>644.00</td>\n",
       "      <td>0.17</td>\n",
       "      <td>0.20</td>\n",
       "      <td>0.00</td>\n",
       "      <td>0.07</td>\n",
       "      <td>0.13</td>\n",
       "      <td>0.27</td>\n",
       "      <td>1.00</td>\n",
       "    </tr>\n",
       "    <tr>\n",
       "      <th>Total_calls_made</th>\n",
       "      <td>644.00</td>\n",
       "      <td>0.36</td>\n",
       "      <td>0.29</td>\n",
       "      <td>0.00</td>\n",
       "      <td>0.10</td>\n",
       "      <td>0.30</td>\n",
       "      <td>0.53</td>\n",
       "      <td>1.00</td>\n",
       "    </tr>\n",
       "  </tbody>\n",
       "</table>\n",
       "</div>"
      ],
      "text/plain": [
       "                     count  mean  std  min  25%  50%  75%  max\n",
       "Avg_Credit_Limit    644.00  0.16 0.19 0.00 0.04 0.08 0.23 1.00\n",
       "Total_Credit_Cards  644.00  0.41 0.24 0.00 0.22 0.44 0.56 1.00\n",
       "Total_visits_bank   644.00  0.48 0.33 0.00 0.20 0.40 0.80 1.00\n",
       "Total_visits_online 644.00  0.17 0.20 0.00 0.07 0.13 0.27 1.00\n",
       "Total_calls_made    644.00  0.36 0.29 0.00 0.10 0.30 0.53 1.00"
      ]
     },
     "execution_count": 18,
     "metadata": {},
     "output_type": "execute_result"
    }
   ],
   "source": [
    "df_scaled.describe().T"
   ]
  },
  {
   "cell_type": "markdown",
   "metadata": {
    "id": "oPSv-4Hat5Wg"
   },
   "source": [
    "### 7. Elbow Plot(3 marks)\n",
    "\n",
    "#### K-Means clustering\n",
    "\n",
    "Now that we have scaled, let us move to KMeans clustering."
   ]
  },
  {
   "cell_type": "code",
   "execution_count": 19,
   "metadata": {
    "id": "5_IDWbX6amaq"
   },
   "outputs": [
    {
     "data": {
      "image/png": "[encoded data removed]",
      "text/plain": [
       "<Figure size 432x288 with 1 Axes>"
      ]
     },
     "metadata": {},
     "output_type": "display_data"
    }
   ],
   "source": [
    "# Let us now fit kmeans algorithm on our scaled data and Find out the optimum number of clusters to use.\n",
    "\n",
    "# Steps:\n",
    "# 1. Inititalise a dictionary to store the SSE for each k.\n",
    "# 2. Run for a range of Ks and store SSE for each run\n",
    "# 3. Plot the SSE vs K and find the elbow\n",
    "\n",
    "# step 1\n",
    "\n",
    "sse = {} \n",
    "\n",
    "# step 2 - iterate for a range of Ks and fit the scaled data to the algorithm. Use inertia attribute from the clustering object and \n",
    "# store the inertia value for that k \n",
    "\n",
    "for k in range(1, 10):\n",
    "    kmeans = KMeans(n_clusters=k, max_iter=1000, random_state=12).fit(df_scaled)\n",
    "    sse[k] = kmeans.inertia_\n",
    "\n",
    "# step 3\n",
    "\n",
    "plt.figure()\n",
    "plt.plot(list(sse.keys()), list(sse.values()), 'bx-')\n",
    "plt.xlabel(\"Number of cluster\")\n",
    "plt.ylabel(\"SSE\")\n",
    "plt.show()"
   ]
  },
  {
   "cell_type": "markdown",
   "metadata": {
    "id": "z25ntZ6XyR2a"
   },
   "source": [
    "### 8. Fit the KMeans clustering on the df_scaled data with n_clusters = 3 and store the predictions in the columns 'Labels' (create new column) (3 marks)"
   ]
  },
  {
   "cell_type": "code",
   "execution_count": 20,
   "metadata": {
    "id": "cvxudy-wcxfn"
   },
   "outputs": [],
   "source": [
    "# Looking at the plot, we can say that for k=3 or 4, elbow point is achieved.\n",
    "# We will fit the kmeans again with k=3 to get the labels\n",
    "\n",
    "kmeans = KMeans(n_clusters=3, max_iter= 1000, random_state=12)\n",
    "\n",
    "kmeans.fit(df_scaled)\n",
    "df_scaled['Labels'] = kmeans.predict(df_scaled) \n"
   ]
  },
  {
   "cell_type": "markdown",
   "metadata": {
    "id": "0F6OrP6a0Sld"
   },
   "source": [
    "### 9. Generate the boxplot for all the features that cleary differentiates among the clusters( 2 mark)"
   ]
  },
  {
   "cell_type": "code",
   "execution_count": 21,
   "metadata": {
    "id": "V_KmaI3DqPf4"
   },
   "outputs": [
    {
     "data": {
      "image/png": "[encoded data removed]",
      "text/plain": [
       "<Figure size 1440x504 with 5 Axes>"
      ]
     },
     "metadata": {},
     "output_type": "display_data"
    }
   ],
   "source": [
    "# We have generated the labels with kmeans. Let us look at the various features based on the labels. \n",
    "# The labels should be fed to the 'by' attribute \n",
    "\n",
    "df_scaled.boxplot(by = 'Labels', layout = (1,5),figsize=(20,7))\n",
    "plt.show()"
   ]
  },
  {
   "cell_type": "markdown",
   "metadata": {
    "id": "_WkE333w2Bdu"
   },
   "source": [
    "### 10. Implement the Gaussian Mixture Model clustering and generate the boxplot as above (3 marks)\n",
    "\n",
    "- Fit the algorithm with 3 n_components. Predict on the scaled data and store the results as GmmLabels.(2 marks)\n",
    "- Generate the boxplots to understand the clusters similar to the one generated for the kmeans.(1 mark)\n"
   ]
  },
  {
   "cell_type": "code",
   "execution_count": 22,
   "metadata": {
    "id": "37D1p0rGORjz"
   },
   "outputs": [],
   "source": [
    "from sklearn.mixture import GaussianMixture\n",
    "\n",
    "gmm = GaussianMixture(n_components = 3, random_state = 12)\n",
    "gmm.fit(df_scaled) \n",
    "df_scaled['GmmLabels'] = gmm.predict(df_scaled)"
   ]
  },
  {
   "cell_type": "code",
   "execution_count": 23,
   "metadata": {
    "id": "yXGbT_A1Pats"
   },
   "outputs": [
    {
     "data": {
      "image/png": "[encoded data removed]",
      "text/plain": [
       "<Figure size 1440x504 with 5 Axes>"
      ]
     },
     "metadata": {},
     "output_type": "display_data"
    }
   ],
   "source": [
    "# plotting boxplots with the new GMM based labels\n",
    "\n",
    "new_features = [\"Avg_Credit_Limit\", \"Total_Credit_Cards\", \"Total_visits_bank\", \"Total_visits_online\", \"Total_calls_made\",\"GmmLabels\"]\n",
    "\n",
    "df_scaled[new_features].boxplot(by = 'GmmLabels',layout = (1,5),figsize=(20,7))\n",
    "plt.show()"
   ]
  },
  {
   "cell_type": "markdown",
   "metadata": {
    "id": "abDyu7iL4fWK"
   },
   "source": [
    "### 11. Use the DBSCAN clustering with the eps = 0.5 and other parameters as default on the scaled data. Report the number of clusters formed. (3 marks)\n"
   ]
  },
  {
   "cell_type": "code",
   "execution_count": 24,
   "metadata": {
    "id": "vEf-sw45Vgg6"
   },
   "outputs": [
    {
     "name": "stdout",
     "output_type": "stream",
     "text": [
      "Number of clusters from DBSCAN:  3\n"
     ]
    }
   ],
   "source": [
    "from sklearn.cluster import DBSCAN\n",
    "\n",
    "dbs = DBSCAN(eps=0.5)\n",
    "\n",
    "df_scaled['DBSLabels'] = dbs.fit_predict(df_scaled)\n",
    "\n",
    "# Number of clusters formed:\n",
    "print('Number of clusters from DBSCAN: ', df_scaled['DBSLabels'].nunique())"
   ]
  },
  {
   "cell_type": "code",
   "execution_count": 25,
   "metadata": {
    "id": "59bm1gd3XCqp"
   },
   "outputs": [
    {
     "data": {
      "image/png": "[encoded data removed]",
      "text/plain": [
       "<Figure size 1440x504 with 5 Axes>"
      ]
     },
     "metadata": {},
     "output_type": "display_data"
    }
   ],
   "source": [
    "#plotting boxplots with the new DBScan based labels\n",
    "\n",
    "new_features = [\"Avg_Credit_Limit\", \"Total_Credit_Cards\", \"Total_visits_bank\", \"Total_visits_online\", \"Total_calls_made\",\"DBSLabels\"]\n",
    "\n",
    "df_scaled[new_features].boxplot(by = 'DBSLabels', layout = (1,5),figsize=(20,7))\n",
    "plt.show()"
   ]
  },
  {
   "cell_type": "markdown",
   "metadata": {
    "id": "AsUN-_LuryDS"
   },
   "source": [
    "### 12. Print the cluster sizes and add comments from the different clustering techniques (3 marks)\n",
    "\n",
    "- Print the cluster size (2 marks)\n",
    "- Comments and interpretations (1 mark)\n",
    "\n"
   ]
  },
  {
   "cell_type": "code",
   "execution_count": 26,
   "metadata": {
    "id": "vELgaXqoXR0H"
   },
   "outputs": [
    {
     "name": "stdout",
     "output_type": "stream",
     "text": [
      "Cluster sizes in Kmeans:\n",
      "1    373\n",
      "0    222\n",
      "2     49\n",
      "Name: Labels, dtype: int64\n",
      "\n",
      "Cluster sizes in GMM:\n",
      "1    373\n",
      "0    222\n",
      "2     49\n",
      "Name: GmmLabels, dtype: int64\n",
      "\n",
      "Cluster sizes in DBSCAN\n",
      "0    373\n",
      "1    222\n",
      "2     49\n",
      "Name: DBSLabels, dtype: int64\n"
     ]
    }
   ],
   "source": [
    "# Use a function that can give the count of all the different values in a column\n",
    "\n",
    "\n",
    "print('Cluster sizes in Kmeans:')\n",
    "print(df_scaled['Labels'].value_counts())\n",
    "print()\n",
    "\n",
    "print('Cluster sizes in GMM:')\n",
    "print(df_scaled['GmmLabels'].value_counts())\n",
    "print()\n",
    "\n",
    "print('Cluster sizes in DBSCAN')\n",
    "print(df_scaled['DBSLabels'].value_counts())"
   ]
  },
  {
   "cell_type": "markdown",
   "metadata": {},
   "source": [
    "#### Write your comments and interpretations here\n",
    "\n",
    "* 3 clusters are found by the methods used: K Means clustering, Gaussian mixture model and DBSCAN\n",
    "* One of the clusters consists of the customers with the highest Avg_Credit_Limit, largest number of Total_Credit_Cards and largest Total_visits_online. For this cluster, Total_calls_made and Total_visits_bank are small. This cluster has customers with high credit limit and large number of credit cards, and the customers prefer online banking to calls or visits to the bank.\n",
    "* Another cluster has a small value of Avg_Credit_Limit and Total_Credit_Cards. Total_visits_online and Total_visits_bank are small, but Total_calls_made is large. This cluster of customers prefers calling the bank, rather than online banking or visiting the bank.\n",
    "* Another cluster has medium values for the Avg_Credit_Limit and Total_Credit_Cards. Total_visits_online and Total_calls_made are small, but Total_visits_bank is large. This cluster of customers prefers to visit the bank, rather than calling or online banking.\n",
    "\n",
    "\n"
   ]
  }
 ],
 "metadata": {
  "colab": {
   "collapsed_sections": [
    "MeIShU1-hh0U",
    "KWyGo_wWjkvX",
    "jj7U8RQTlw49",
    "GWbxYcHCmjh6",
    "IkLtnnkcp0cl",
    "skjNQIiMq2Ar",
    "oPSv-4Hat5Wg",
    "z25ntZ6XyR2a",
    "0F6OrP6a0Sld",
    "_WkE333w2Bdu",
    "abDyu7iL4fWK",
    "AsUN-_LuryDS"
   ],
   "name": "Project Unsupervised Learning - Learner's Notebook",
   "provenance": []
  },
  "kernelspec": {
   "display_name": "Python 3",
   "language": "python",
   "name": "python3"
  },
  "language_info": {
   "codemirror_mode": {
    "name": "ipython",
    "version": 3
   },
   "file_extension": ".py",
   "mimetype": "text/x-python",
   "name": "python",
   "nbconvert_exporter": "python",
   "pygments_lexer": "ipython3",
   "version": "3.8.5"
  }
 },
 "nbformat": 4,
 "nbformat_minor": 1
}
